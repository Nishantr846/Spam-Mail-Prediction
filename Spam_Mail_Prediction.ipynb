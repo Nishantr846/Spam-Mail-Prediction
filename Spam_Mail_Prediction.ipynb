{
  "nbformat": 4,
  "nbformat_minor": 0,
  "metadata": {
    "colab": {
      "provenance": []
    },
    "kernelspec": {
      "name": "python3",
      "display_name": "Python 3"
    },
    "language_info": {
      "name": "python"
    }
  },
  "cells": [
    {
      "cell_type": "code",
      "execution_count": null,
      "metadata": {
        "id": "zMBUprOuYohc"
      },
      "outputs": [],
      "source": [
        "# importing the dependencies\n",
        "import numpy as np\n",
        "import pandas as pd\n",
        "from sklearn.model_selection import train_test_split\n",
        "from sklearn.feature_extraction.text import TfidfVectorizer\n",
        "from sklearn.linear_model import LogisticRegression\n",
        "from sklearn.metrics import accuracy_score\n",
        "\n",
        "# Data Collection & preprocessing\n",
        "\n",
        "raw_mail_data = pd.read_csv('/content/mail_data.csv')\n",
        "\n",
        "# replace the null values with a null(Empty) String\n",
        "mail_data = raw_mail_data.where((pd.notnull(raw_mail_data)), '')\n",
        "\n",
        "# label encoding - label spam as 0 and ham mail as 1\n",
        "\n",
        "mail_data.loc[mail_data['Category']== 'spam', 'Category',] = 0\n",
        "mail_data.loc[mail_data['Category']== 'ham', 'Category',] = 1\n",
        "\n",
        "# separating the data as texts and label\n",
        "\n",
        "X = mail_data['Message']\n",
        "\n",
        "Y = mail_data['Category']\n",
        "\n",
        "# splitting the train and test data\n",
        "X_train, X_test, Y_train, Y_test = train_test_split(X, Y, test_size = 0.1, random_state = 1)\n",
        "\n",
        "# Feature Extraction\n",
        "feature_extraction = TfidfVectorizer(min_df=1, stop_words='english', lowercase=True)\n",
        "\n",
        "X_train_features = feature_extraction.fit_transform(X_train)\n",
        "X_test_features = feature_extraction.transform(X_test)\n",
        "\n",
        "# convert Y_train and Y_test values as integers\n",
        "Y_train = Y_train.astype('int')\n",
        "Y_test = Y_test.astype('int')\n",
        "\n",
        "# Training Model\n",
        "\n",
        "model = LogisticRegression()\n",
        "\n",
        "# training the logistic regression model\n",
        "model.fit(X_train_features, Y_train)\n",
        "\n",
        "# Evaluating the trained model\n",
        "prediction_on_training_data = model.predict(X_train_features)\n",
        "accuracy_on_training_data = accuracy_score(Y_train, prediction_on_training_data)\n",
        "\n",
        "print('Accuracy on the training data : ', accuracy_on_training_data)\n",
        "\n",
        "# Evaluating the test model\n",
        "prediction_on_test_data = model.predict(X_test_features)\n",
        "accuracy_on_test_data = accuracy_score(Y_test, prediction_on_test_data)\n",
        "\n",
        "print('Accuracy on the test data : ', accuracy_on_test_data)\n",
        "\n",
        "input_mail = [\"FreeMsg Hey there darling it's been 3 week's now and no word back! I'd like some fun you up for it still? Tb ok! XxX std chgs to send, £1.50 to rcv\"]\n",
        "\n",
        "# Convert text to feature vectors\n",
        "input_data_features = feature_extraction.transform(input_mail)\n",
        "\n",
        "prediction = model.predict(input_data_features)\n",
        "\n",
        "if (prediction[0] == 1):\n",
        "  print(\"Ham Mail\")\n",
        "else:\n",
        "  print(\"Spam Mail\")"
      ]
    }
  ]
}